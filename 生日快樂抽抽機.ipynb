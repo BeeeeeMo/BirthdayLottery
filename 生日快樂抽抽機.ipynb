{
 "cells": [
  {
   "cell_type": "code",
   "execution_count": 1,
   "metadata": {},
   "outputs": [],
   "source": [
    "# 祝賀詞們 \n",
    "blessing = ['生', '日', '快', '樂', 'birth']"
   ]
  },
  {
   "cell_type": "code",
   "execution_count": 53,
   "metadata": {},
   "outputs": [],
   "source": [
    "from lxml import etree, html\n",
    "with open(r'./comments.txt', \"r\",encoding=\"utf-8\") as f:\n",
    "    page = f.read()\n",
    "tree = html.fromstring(page)"
   ]
  },
  {
   "cell_type": "code",
   "execution_count": 98,
   "metadata": {},
   "outputs": [],
   "source": [
    "tree.xpath('/html/body/ul/li[*]/div[1]/div/div[2]/div/div[1]/div/div/div/div/span/div/a/@href') # profile url"
   ]
  },
  {
   "cell_type": "code",
   "execution_count": 105,
   "metadata": {},
   "outputs": [],
   "source": [
    "tree.xpath('/html/body/ul/li[*]/div[1]/div/div[2]/div/div[1]/div/div/div/div/span/div/a/span/span/text()') # name "
   ]
  },
  {
   "cell_type": "code",
   "execution_count": 100,
   "metadata": {},
   "outputs": [],
   "source": [
    "tree.xpath('/html/body/ul/li[*]/div[1]/div/div[2]/div/div[1]/div/div/div/div/div/span/div/div/text()') # comment"
   ]
  },
  {
   "cell_type": "code",
   "execution_count": 55,
   "metadata": {},
   "outputs": [],
   "source": [
    "# 抓取所有留言 div\n",
    "page = tree.xpath('/html/body/ul/li[*]/div[1]/div/div[2]/div/div[1]/div/div/div/div')"
   ]
  },
  {
   "cell_type": "code",
   "execution_count": 60,
   "metadata": {},
   "outputs": [],
   "source": [
    "# 抓一下資料\n",
    "for comments in page:\n",
    "    if comments.xpath('span/div/a/@href'):\n",
    "        if comments.xpath('div/span/div/div/text()'):\n",
    "            print(comments.xpath('span/div/a/@href')[0].strip())\n",
    "            print(comments.xpath('span/div/a/span/span/text()')[0].strip())\n",
    "            print(comments.xpath('div/span/div/div/text()')[0].strip())\n",
    "    print('============================================================')"
   ]
  },
  {
   "cell_type": "code",
   "execution_count": 57,
   "metadata": {},
   "outputs": [],
   "source": [
    "# 把上面簡化成 dict\n",
    "datas = {comments.xpath('span/div/a/@href')[0].strip():{'Name': comments.xpath('span/div/a/span/span/text()')[0].strip(), 'Comment': comments.xpath('div/span/div/div/text()')[0].strip()} for comments in page if comments.xpath('span/div/a/@href') if comments.xpath('div/span/div/div/text()')}"
   ]
  },
  {
   "cell_type": "code",
   "execution_count": 62,
   "metadata": {},
   "outputs": [],
   "source": [
    "print('參加人數:', len(datas))\n",
    "print('符合資格人數:', len([_ for _ in  datas.items() if any(B in _[1]['Comment'] for B in blessing)]))"
   ]
  },
  {
   "cell_type": "code",
   "execution_count": 61,
   "metadata": {},
   "outputs": [],
   "source": [
    "# 抽\n",
    "import random\n",
    "datas\n",
    "random.sample([_ for _ in  datas.items() if any(B in _[1]['Comment'].lower() for B in blessing)],10)"
   ]
  }
 ],
 "metadata": {
  "kernelspec": {
   "display_name": "Python 3",
   "language": "python",
   "name": "python3"
  },
  "language_info": {
   "codemirror_mode": {
    "name": "ipython",
    "version": 3
   },
   "file_extension": ".py",
   "mimetype": "text/x-python",
   "name": "python",
   "nbconvert_exporter": "python",
   "pygments_lexer": "ipython3",
   "version": "3.7.4"
  }
 },
 "nbformat": 4,
 "nbformat_minor": 2
}
